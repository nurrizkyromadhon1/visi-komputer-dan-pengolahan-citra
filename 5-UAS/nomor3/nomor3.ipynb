{
 "cells": [
  {
   "cell_type": "code",
   "execution_count": 4,
   "metadata": {},
   "outputs": [
    {
     "data": {
      "text/plain": [
       "True"
      ]
     },
     "execution_count": 4,
     "metadata": {},
     "output_type": "execute_result"
    },
    {
     "ename": "",
     "evalue": "",
     "output_type": "error",
     "traceback": [
      "\u001b[1;31mThe Kernel crashed while executing code in the the current cell or a previous cell. Please review the code in the cell(s) to identify a possible cause of the failure. Click <a href='https://aka.ms/vscodeJupyterKernelCrash'>here</a> for more info. View Jupyter <a href='command:jupyter.viewOutput'>log</a> for further details."
     ]
    }
   ],
   "source": [
    "import cv2\n",
    "import numpy as np\n",
    "\n",
    "img = cv2.imread(\"./bola2.jpg\")\n",
    "(h,w,c) = img.shape\n",
    "gray_img = cv2.cvtColor(img,cv2.COLOR_BGR2GRAY)\n",
    "\n",
    "parts = []\n",
    "step_x = 3\n",
    "step_y = 3\n",
    "eqs = []\n",
    "eq_img = np.zeros_like(gray_img)\n",
    "\n",
    "for x in range(step_x):\n",
    "    for y in range(step_y):\n",
    "        xratio1 = x/step_x\n",
    "        xratio2 = (x+1)/step_x\n",
    "        yratio1 = y/step_y\n",
    "        yratio2 = (y+1)/step_y\n",
    "        part = gray_img[int(yratio1*h):int(yratio2*h),int(xratio1*w):int(xratio2*w)].copy()\n",
    "        parts.append(part)\n",
    "\n",
    "        cv2.imshow(\"x = {0}, y = {1}\".format(x,y),part)\n",
    "\n",
    "        eq = cv2.equalizeHist(part)\n",
    "        eqs.append(eq)\n",
    "        eq_img[int(yratio1*h):int(yratio2*h),int(xratio1*w):int(xratio2*w)] = eq\n",
    "\n",
    "cv2.imwrite(\"output.png\", eq_img)"
   ]
  }
 ],
 "metadata": {
  "kernelspec": {
   "display_name": "Python 3",
   "language": "python",
   "name": "python3"
  },
  "language_info": {
   "codemirror_mode": {
    "name": "ipython",
    "version": 3
   },
   "file_extension": ".py",
   "mimetype": "text/x-python",
   "name": "python",
   "nbconvert_exporter": "python",
   "pygments_lexer": "ipython3",
   "version": "3.10.0"
  }
 },
 "nbformat": 4,
 "nbformat_minor": 2
}
